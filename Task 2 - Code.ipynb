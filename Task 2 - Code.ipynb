{
  "cells": [
    {
      "cell_type": "markdown",
      "metadata": {
        "id": "view-in-github",
        "colab_type": "text"
      },
      "source": [
        "<a href=\"https://colab.research.google.com/github/malindard/British-Airways-Virtual-Experience/blob/main/Task%202%20-%20Code.ipynb\" target=\"_parent\"><img src=\"https://colab.research.google.com/assets/colab-badge.svg\" alt=\"Open In Colab\"/></a>"
      ]
    },
    {
      "cell_type": "code",
      "source": [
        "from google.colab import drive\n",
        "drive.mount('/content/drive')"
      ],
      "metadata": {
        "colab": {
          "base_uri": "https://localhost:8080/"
        },
        "id": "IyjF1JqddlcJ",
        "outputId": "629849b1-b44e-44cb-abba-ece7592486b3"
      },
      "execution_count": 52,
      "outputs": [
        {
          "output_type": "stream",
          "name": "stdout",
          "text": [
            "Drive already mounted at /content/drive; to attempt to forcibly remount, call drive.mount(\"/content/drive\", force_remount=True).\n"
          ]
        }
      ]
    },
    {
      "cell_type": "markdown",
      "metadata": {
        "id": "zTd6tBewcu7b"
      },
      "source": [
        "# Task 2\n",
        "\n",
        "---\n",
        "\n",
        "## Predictive modeling of customer bookings\n",
        "\n",
        "This Jupyter notebook includes some code to get you started with this predictive modeling task. We will use various packages for data manipulation, feature engineering and machine learning.\n",
        "\n",
        "### Exploratory data analysis\n",
        "\n",
        "First, we must explore the data in order to better understand what we have and the statistical properties of the dataset."
      ]
    },
    {
      "cell_type": "code",
      "execution_count": 53,
      "metadata": {
        "id": "OZrjPcCdcu7i"
      },
      "outputs": [],
      "source": [
        "%matplotlib inline\n",
        "\n",
        "import pandas as pd\n",
        "import numpy as np\n",
        "import matplotlib.pyplot as plt\n",
        "import seaborn as sns\n",
        "\n",
        "import warnings\n",
        "warnings.filterwarnings(\"ignore\")"
      ]
    },
    {
      "cell_type": "code",
      "execution_count": 54,
      "metadata": {
        "id": "PfL-rDNOcu7n",
        "outputId": "6069bfa7-fdda-4bf4-af26-7b37d8576cba",
        "colab": {
          "base_uri": "https://localhost:8080/",
          "height": 270
        }
      },
      "outputs": [
        {
          "output_type": "execute_result",
          "data": {
            "text/plain": [
              "   num_passengers sales_channel  trip_type  purchase_lead  length_of_stay  \\\n",
              "0               2      Internet  RoundTrip            262              19   \n",
              "1               1      Internet  RoundTrip            112              20   \n",
              "2               2      Internet  RoundTrip            243              22   \n",
              "3               1      Internet  RoundTrip             96              31   \n",
              "4               2      Internet  RoundTrip             68              22   \n",
              "\n",
              "   flight_hour flight_day   route booking_origin  wants_extra_baggage  \\\n",
              "0            7        Sat  AKLDEL    New Zealand                    1   \n",
              "1            3        Sat  AKLDEL    New Zealand                    0   \n",
              "2           17        Wed  AKLDEL          India                    1   \n",
              "3            4        Sat  AKLDEL    New Zealand                    0   \n",
              "4           15        Wed  AKLDEL          India                    1   \n",
              "\n",
              "   wants_preferred_seat  wants_in_flight_meals  flight_duration  \\\n",
              "0                     0                      0             5.52   \n",
              "1                     0                      0             5.52   \n",
              "2                     1                      0             5.52   \n",
              "3                     0                      1             5.52   \n",
              "4                     0                      1             5.52   \n",
              "\n",
              "   booking_complete  \n",
              "0                 0  \n",
              "1                 0  \n",
              "2                 0  \n",
              "3                 0  \n",
              "4                 0  "
            ],
            "text/html": [
              "\n",
              "  <div id=\"df-d1bec457-58cd-49ac-894f-9c126db982e6\">\n",
              "    <div class=\"colab-df-container\">\n",
              "      <div>\n",
              "<style scoped>\n",
              "    .dataframe tbody tr th:only-of-type {\n",
              "        vertical-align: middle;\n",
              "    }\n",
              "\n",
              "    .dataframe tbody tr th {\n",
              "        vertical-align: top;\n",
              "    }\n",
              "\n",
              "    .dataframe thead th {\n",
              "        text-align: right;\n",
              "    }\n",
              "</style>\n",
              "<table border=\"1\" class=\"dataframe\">\n",
              "  <thead>\n",
              "    <tr style=\"text-align: right;\">\n",
              "      <th></th>\n",
              "      <th>num_passengers</th>\n",
              "      <th>sales_channel</th>\n",
              "      <th>trip_type</th>\n",
              "      <th>purchase_lead</th>\n",
              "      <th>length_of_stay</th>\n",
              "      <th>flight_hour</th>\n",
              "      <th>flight_day</th>\n",
              "      <th>route</th>\n",
              "      <th>booking_origin</th>\n",
              "      <th>wants_extra_baggage</th>\n",
              "      <th>wants_preferred_seat</th>\n",
              "      <th>wants_in_flight_meals</th>\n",
              "      <th>flight_duration</th>\n",
              "      <th>booking_complete</th>\n",
              "    </tr>\n",
              "  </thead>\n",
              "  <tbody>\n",
              "    <tr>\n",
              "      <th>0</th>\n",
              "      <td>2</td>\n",
              "      <td>Internet</td>\n",
              "      <td>RoundTrip</td>\n",
              "      <td>262</td>\n",
              "      <td>19</td>\n",
              "      <td>7</td>\n",
              "      <td>Sat</td>\n",
              "      <td>AKLDEL</td>\n",
              "      <td>New Zealand</td>\n",
              "      <td>1</td>\n",
              "      <td>0</td>\n",
              "      <td>0</td>\n",
              "      <td>5.52</td>\n",
              "      <td>0</td>\n",
              "    </tr>\n",
              "    <tr>\n",
              "      <th>1</th>\n",
              "      <td>1</td>\n",
              "      <td>Internet</td>\n",
              "      <td>RoundTrip</td>\n",
              "      <td>112</td>\n",
              "      <td>20</td>\n",
              "      <td>3</td>\n",
              "      <td>Sat</td>\n",
              "      <td>AKLDEL</td>\n",
              "      <td>New Zealand</td>\n",
              "      <td>0</td>\n",
              "      <td>0</td>\n",
              "      <td>0</td>\n",
              "      <td>5.52</td>\n",
              "      <td>0</td>\n",
              "    </tr>\n",
              "    <tr>\n",
              "      <th>2</th>\n",
              "      <td>2</td>\n",
              "      <td>Internet</td>\n",
              "      <td>RoundTrip</td>\n",
              "      <td>243</td>\n",
              "      <td>22</td>\n",
              "      <td>17</td>\n",
              "      <td>Wed</td>\n",
              "      <td>AKLDEL</td>\n",
              "      <td>India</td>\n",
              "      <td>1</td>\n",
              "      <td>1</td>\n",
              "      <td>0</td>\n",
              "      <td>5.52</td>\n",
              "      <td>0</td>\n",
              "    </tr>\n",
              "    <tr>\n",
              "      <th>3</th>\n",
              "      <td>1</td>\n",
              "      <td>Internet</td>\n",
              "      <td>RoundTrip</td>\n",
              "      <td>96</td>\n",
              "      <td>31</td>\n",
              "      <td>4</td>\n",
              "      <td>Sat</td>\n",
              "      <td>AKLDEL</td>\n",
              "      <td>New Zealand</td>\n",
              "      <td>0</td>\n",
              "      <td>0</td>\n",
              "      <td>1</td>\n",
              "      <td>5.52</td>\n",
              "      <td>0</td>\n",
              "    </tr>\n",
              "    <tr>\n",
              "      <th>4</th>\n",
              "      <td>2</td>\n",
              "      <td>Internet</td>\n",
              "      <td>RoundTrip</td>\n",
              "      <td>68</td>\n",
              "      <td>22</td>\n",
              "      <td>15</td>\n",
              "      <td>Wed</td>\n",
              "      <td>AKLDEL</td>\n",
              "      <td>India</td>\n",
              "      <td>1</td>\n",
              "      <td>0</td>\n",
              "      <td>1</td>\n",
              "      <td>5.52</td>\n",
              "      <td>0</td>\n",
              "    </tr>\n",
              "  </tbody>\n",
              "</table>\n",
              "</div>\n",
              "      <button class=\"colab-df-convert\" onclick=\"convertToInteractive('df-d1bec457-58cd-49ac-894f-9c126db982e6')\"\n",
              "              title=\"Convert this dataframe to an interactive table.\"\n",
              "              style=\"display:none;\">\n",
              "        \n",
              "  <svg xmlns=\"http://www.w3.org/2000/svg\" height=\"24px\"viewBox=\"0 0 24 24\"\n",
              "       width=\"24px\">\n",
              "    <path d=\"M0 0h24v24H0V0z\" fill=\"none\"/>\n",
              "    <path d=\"M18.56 5.44l.94 2.06.94-2.06 2.06-.94-2.06-.94-.94-2.06-.94 2.06-2.06.94zm-11 1L8.5 8.5l.94-2.06 2.06-.94-2.06-.94L8.5 2.5l-.94 2.06-2.06.94zm10 10l.94 2.06.94-2.06 2.06-.94-2.06-.94-.94-2.06-.94 2.06-2.06.94z\"/><path d=\"M17.41 7.96l-1.37-1.37c-.4-.4-.92-.59-1.43-.59-.52 0-1.04.2-1.43.59L10.3 9.45l-7.72 7.72c-.78.78-.78 2.05 0 2.83L4 21.41c.39.39.9.59 1.41.59.51 0 1.02-.2 1.41-.59l7.78-7.78 2.81-2.81c.8-.78.8-2.07 0-2.86zM5.41 20L4 18.59l7.72-7.72 1.47 1.35L5.41 20z\"/>\n",
              "  </svg>\n",
              "      </button>\n",
              "      \n",
              "  <style>\n",
              "    .colab-df-container {\n",
              "      display:flex;\n",
              "      flex-wrap:wrap;\n",
              "      gap: 12px;\n",
              "    }\n",
              "\n",
              "    .colab-df-convert {\n",
              "      background-color: #E8F0FE;\n",
              "      border: none;\n",
              "      border-radius: 50%;\n",
              "      cursor: pointer;\n",
              "      display: none;\n",
              "      fill: #1967D2;\n",
              "      height: 32px;\n",
              "      padding: 0 0 0 0;\n",
              "      width: 32px;\n",
              "    }\n",
              "\n",
              "    .colab-df-convert:hover {\n",
              "      background-color: #E2EBFA;\n",
              "      box-shadow: 0px 1px 2px rgba(60, 64, 67, 0.3), 0px 1px 3px 1px rgba(60, 64, 67, 0.15);\n",
              "      fill: #174EA6;\n",
              "    }\n",
              "\n",
              "    [theme=dark] .colab-df-convert {\n",
              "      background-color: #3B4455;\n",
              "      fill: #D2E3FC;\n",
              "    }\n",
              "\n",
              "    [theme=dark] .colab-df-convert:hover {\n",
              "      background-color: #434B5C;\n",
              "      box-shadow: 0px 1px 3px 1px rgba(0, 0, 0, 0.15);\n",
              "      filter: drop-shadow(0px 1px 2px rgba(0, 0, 0, 0.3));\n",
              "      fill: #FFFFFF;\n",
              "    }\n",
              "  </style>\n",
              "\n",
              "      <script>\n",
              "        const buttonEl =\n",
              "          document.querySelector('#df-d1bec457-58cd-49ac-894f-9c126db982e6 button.colab-df-convert');\n",
              "        buttonEl.style.display =\n",
              "          google.colab.kernel.accessAllowed ? 'block' : 'none';\n",
              "\n",
              "        async function convertToInteractive(key) {\n",
              "          const element = document.querySelector('#df-d1bec457-58cd-49ac-894f-9c126db982e6');\n",
              "          const dataTable =\n",
              "            await google.colab.kernel.invokeFunction('convertToInteractive',\n",
              "                                                     [key], {});\n",
              "          if (!dataTable) return;\n",
              "\n",
              "          const docLinkHtml = 'Like what you see? Visit the ' +\n",
              "            '<a target=\"_blank\" href=https://colab.research.google.com/notebooks/data_table.ipynb>data table notebook</a>'\n",
              "            + ' to learn more about interactive tables.';\n",
              "          element.innerHTML = '';\n",
              "          dataTable['output_type'] = 'display_data';\n",
              "          await google.colab.output.renderOutput(dataTable, element);\n",
              "          const docLink = document.createElement('div');\n",
              "          docLink.innerHTML = docLinkHtml;\n",
              "          element.appendChild(docLink);\n",
              "        }\n",
              "      </script>\n",
              "    </div>\n",
              "  </div>\n",
              "  "
            ]
          },
          "metadata": {},
          "execution_count": 54
        }
      ],
      "source": [
        "df = pd.read_csv(\"/content/drive/MyDrive/Colab Notebooks/dataset/customer_booking.csv\", encoding=\"ISO-8859-1\")\n",
        "df.head()"
      ]
    },
    {
      "cell_type": "markdown",
      "metadata": {
        "id": "i7cqnIwIcu7r"
      },
      "source": [
        "The `.head()` method allows us to view the first 5 rows in the dataset, this is useful for visual inspection of our columns"
      ]
    },
    {
      "cell_type": "markdown",
      "source": [
        "## Exploratory Data Analysis"
      ],
      "metadata": {
        "id": "mnLoIjxKyvKj"
      }
    },
    {
      "cell_type": "code",
      "execution_count": 55,
      "metadata": {
        "id": "TbhBYobfcu7s",
        "outputId": "0d4f2453-c853-480a-c44a-bffa63085b32",
        "colab": {
          "base_uri": "https://localhost:8080/"
        }
      },
      "outputs": [
        {
          "output_type": "stream",
          "name": "stdout",
          "text": [
            "<class 'pandas.core.frame.DataFrame'>\n",
            "RangeIndex: 50000 entries, 0 to 49999\n",
            "Data columns (total 14 columns):\n",
            " #   Column                 Non-Null Count  Dtype  \n",
            "---  ------                 --------------  -----  \n",
            " 0   num_passengers         50000 non-null  int64  \n",
            " 1   sales_channel          50000 non-null  object \n",
            " 2   trip_type              50000 non-null  object \n",
            " 3   purchase_lead          50000 non-null  int64  \n",
            " 4   length_of_stay         50000 non-null  int64  \n",
            " 5   flight_hour            50000 non-null  int64  \n",
            " 6   flight_day             50000 non-null  object \n",
            " 7   route                  50000 non-null  object \n",
            " 8   booking_origin         50000 non-null  object \n",
            " 9   wants_extra_baggage    50000 non-null  int64  \n",
            " 10  wants_preferred_seat   50000 non-null  int64  \n",
            " 11  wants_in_flight_meals  50000 non-null  int64  \n",
            " 12  flight_duration        50000 non-null  float64\n",
            " 13  booking_complete       50000 non-null  int64  \n",
            "dtypes: float64(1), int64(8), object(5)\n",
            "memory usage: 5.3+ MB\n"
          ]
        }
      ],
      "source": [
        "df.info()"
      ]
    },
    {
      "cell_type": "markdown",
      "metadata": {
        "id": "cTIlQj6Icu7u"
      },
      "source": [
        "The `.info()` method gives us a data description, telling us the names of the columns, their data types and how many null values we have. Fortunately, we have no null values. It looks like some of these columns should be converted into different data types, e.g. flight_day.\n",
        "\n",
        "To provide more context, below is a more detailed data description, explaining exactly what each column means:\n",
        "\n",
        "- `num_passengers` = number of passengers travelling\n",
        "- `sales_channel` = sales channel booking was made on\n",
        "- `trip_type` = trip Type (Round Trip, One Way, Circle Trip)\n",
        "- `purchase_lead` = number of days between travel date and booking date\n",
        "- `length_of_stay` = number of days spent at destination\n",
        "- `flight_hour` = hour of flight departure\n",
        "- `flight_day` = day of week of flight departure\n",
        "- `route` = origin -> destination flight route\n",
        "- `booking_origin` = country from where booking was made\n",
        "- `wants_extra_baggage` = if the customer wanted extra baggage in the booking\n",
        "- `wants_preferred_seat` = if the customer wanted a preferred seat in the booking\n",
        "- `wants_in_flight_meals` = if the customer wanted in-flight meals in the booking\n",
        "- `flight_duration` = total duration of flight (in hours)\n",
        "- `booking_complete` = flag indicating if the customer completed the booking\n"
      ]
    },
    {
      "cell_type": "code",
      "source": [
        "df.isnull().sum()"
      ],
      "metadata": {
        "colab": {
          "base_uri": "https://localhost:8080/"
        },
        "id": "dDt6UxkyzC70",
        "outputId": "cac951d5-178d-4e2c-f629-ac6ac76a59ca"
      },
      "execution_count": 56,
      "outputs": [
        {
          "output_type": "execute_result",
          "data": {
            "text/plain": [
              "num_passengers           0\n",
              "sales_channel            0\n",
              "trip_type                0\n",
              "purchase_lead            0\n",
              "length_of_stay           0\n",
              "flight_hour              0\n",
              "flight_day               0\n",
              "route                    0\n",
              "booking_origin           0\n",
              "wants_extra_baggage      0\n",
              "wants_preferred_seat     0\n",
              "wants_in_flight_meals    0\n",
              "flight_duration          0\n",
              "booking_complete         0\n",
              "dtype: int64"
            ]
          },
          "metadata": {},
          "execution_count": 56
        }
      ]
    },
    {
      "cell_type": "markdown",
      "source": [
        "There's no null values"
      ],
      "metadata": {
        "id": "xxT1bRfxzPou"
      }
    },
    {
      "cell_type": "markdown",
      "source": [
        "\n",
        "\n",
        "---\n",
        "\n",
        "Before we compute any statistics on the data, lets do any necessary data conversion."
      ],
      "metadata": {
        "id": "OcVFg9zkzS-d"
      }
    },
    {
      "cell_type": "code",
      "source": [
        "X= df.drop('booking_complete',axis=1)\n",
        "y= df.booking_complete\n",
        "\n",
        "# Changing object dtype to int dtype\n",
        "for colname in X.select_dtypes(\"object\"):\n",
        "    X[colname], _ = X[colname].factorize()"
      ],
      "metadata": {
        "id": "eYukoY-Dzb7g"
      },
      "execution_count": 57,
      "outputs": []
    },
    {
      "cell_type": "code",
      "source": [
        "X.dtypes"
      ],
      "metadata": {
        "colab": {
          "base_uri": "https://localhost:8080/"
        },
        "id": "aui2F6oH0QHr",
        "outputId": "e64fe822-1e38-41cd-cb58-e375ec597bbd"
      },
      "execution_count": 58,
      "outputs": [
        {
          "output_type": "execute_result",
          "data": {
            "text/plain": [
              "num_passengers             int64\n",
              "sales_channel              int64\n",
              "trip_type                  int64\n",
              "purchase_lead              int64\n",
              "length_of_stay             int64\n",
              "flight_hour                int64\n",
              "flight_day                 int64\n",
              "route                      int64\n",
              "booking_origin             int64\n",
              "wants_extra_baggage        int64\n",
              "wants_preferred_seat       int64\n",
              "wants_in_flight_meals      int64\n",
              "flight_duration          float64\n",
              "dtype: object"
            ]
          },
          "metadata": {},
          "execution_count": 58
        }
      ]
    },
    {
      "cell_type": "code",
      "source": [
        "from sklearn.feature_selection import mutual_info_classif\n",
        "\n",
        "mi_scores = mutual_info_classif(X, y)\n",
        "mi_scores = pd.Series(mi_scores, name=\"MI Scores\", index=X.columns)\n",
        "mi_scores = mi_scores.sort_values(ascending=False)\n",
        "\n",
        "mi_scores # show a few features with their MI scores"
      ],
      "metadata": {
        "colab": {
          "base_uri": "https://localhost:8080/"
        },
        "id": "T15JNsts0Zj8",
        "outputId": "fa400b27-d4e5-4cf9-a2a4-1da8352f71d4"
      },
      "execution_count": 59,
      "outputs": [
        {
          "output_type": "execute_result",
          "data": {
            "text/plain": [
              "route                    0.051966\n",
              "booking_origin           0.048503\n",
              "flight_duration          0.015544\n",
              "wants_extra_baggage      0.009483\n",
              "length_of_stay           0.006496\n",
              "wants_in_flight_meals    0.004936\n",
              "wants_preferred_seat     0.004773\n",
              "num_passengers           0.002745\n",
              "flight_hour              0.002096\n",
              "purchase_lead            0.002074\n",
              "flight_day               0.001631\n",
              "trip_type                0.000457\n",
              "sales_channel            0.000328\n",
              "Name: MI Scores, dtype: float64"
            ]
          },
          "metadata": {},
          "execution_count": 59
        }
      ]
    },
    {
      "cell_type": "code",
      "source": [
        "def plot_mi_scores(scores):\n",
        "    scores = scores.sort_values(ascending=True)\n",
        "    width = np.arange(len(scores))\n",
        "    ticks = list(scores.index)\n",
        "    plt.barh(width, scores)\n",
        "    plt.yticks(width, ticks)\n",
        "    plt.title(\"Mutual Information Scores\")\n",
        "\n",
        "\n",
        "plt.figure(dpi=100, figsize=(8, 5))\n",
        "plot_mi_scores(mi_scores)"
      ],
      "metadata": {
        "colab": {
          "base_uri": "https://localhost:8080/",
          "height": 468
        },
        "id": "ir5EYEyS0btO",
        "outputId": "80da1c06-b221-4935-fe29-bced1fc99f4e"
      },
      "execution_count": 60,
      "outputs": [
        {
          "output_type": "display_data",
          "data": {
            "text/plain": [
              "<Figure size 800x500 with 1 Axes>"
            ],
            "image/png": "[encoded data removed]"
          },
          "metadata": {}
        }
      ]
    },
    {
      "cell_type": "code",
      "source": [
        "# sns.jointplot(data=df,x='route',y='')"
      ],
      "metadata": {
        "id": "mvVP8uQK0nB0"
      },
      "execution_count": 61,
      "outputs": []
    },
    {
      "cell_type": "markdown",
      "source": [
        "We can see that\n",
        "1. route\n",
        "2. booking_origin\n",
        "3. flight_duration\n",
        "4. wants_extra_baggage\n",
        "5. length_of_stay\n",
        "\n",
        "are the top 5 features which are dependant with booking_complete feature"
      ],
      "metadata": {
        "id": "MIXlbm_P0rb7"
      }
    },
    {
      "cell_type": "code",
      "source": [
        "#test train split\n",
        "\n",
        "from sklearn.model_selection import train_test_split\n",
        "\n",
        "# dataset split\n",
        "# creating a function for dataset split\n",
        "def dataset(X,y):\n",
        "    train_full_X, val_X, train_full_y, val_y = train_test_split(X, y,test_size=0.2,random_state = 0)\n",
        "\n",
        "# Use the same function above for the validation set\n",
        "    train_X, test_X, train_y, test_y = train_test_split(train_full_X, train_full_y, test_size=0.25,random_state = 0)\n",
        "    return (train_X, val_X, train_y, val_y)"
      ],
      "metadata": {
        "id": "TEXp_RNt0-pa"
      },
      "execution_count": 62,
      "outputs": []
    },
    {
      "cell_type": "code",
      "source": [
        "from sklearn.preprocessing import MinMaxScaler\n",
        "\n",
        "def scale(X):\n",
        "    scaler = MinMaxScaler()\n",
        "    scaler.fit(X)\n",
        "    return X"
      ],
      "metadata": {
        "id": "-1N_vvu513In"
      },
      "execution_count": 63,
      "outputs": []
    },
    {
      "cell_type": "code",
      "source": [
        "from sklearn.metrics import roc_auc_score\n",
        "from sklearn.metrics import accuracy_score\n",
        "from sklearn.linear_model import LogisticRegression\n",
        "from xgboost import XGBClassifier\n",
        "from sklearn.ensemble import RandomForestClassifier\n",
        "\n",
        "# assigning the features under a list\n",
        "features=['route','booking_origin','flight_duration','wants_extra_baggage', 'length_of_stay','num_passengers']"
      ],
      "metadata": {
        "id": "Oe9DAa58C5h6"
      },
      "execution_count": 65,
      "outputs": []
    },
    {
      "cell_type": "markdown",
      "source": [
        "## Model 1 : Logistic Regression Classifier with top 6 features"
      ],
      "metadata": {
        "id": "Ve4rph-h1YEG"
      }
    },
    {
      "cell_type": "code",
      "source": [
        "X= df[features]\n",
        "# one hot encoding\n",
        "X = pd.get_dummies(X, columns=features)\n",
        "X= scale(X)\n",
        "y= df.booking_complete\n",
        "\n",
        "X_train,X_val,y_train,y_val= dataset(X,y)\n",
        "\n",
        "logistic_model = LogisticRegression(random_state=1)\n",
        "logistic_model.fit(X_train, y_train)\n",
        "preds = logistic_model.predict(X_val)\n",
        "\n",
        "print('ACCURACY:', accuracy_score(y_val, preds)*100)\n",
        "print('AUC score:', roc_auc_score(y_val, preds))"
      ],
      "metadata": {
        "colab": {
          "base_uri": "https://localhost:8080/"
        },
        "id": "-l6ONelA1JfE",
        "outputId": "15a6c51d-a0e2-4642-8f4a-15ef668ea962"
      },
      "execution_count": 66,
      "outputs": [
        {
          "output_type": "stream",
          "name": "stdout",
          "text": [
            "ACCURACY: 84.58\n",
            "AUC score: 0.5232746229585921\n"
          ]
        }
      ]
    },
    {
      "cell_type": "markdown",
      "source": [
        "## Model 2 : Logistic Regression Classifier with all features"
      ],
      "metadata": {
        "id": "-oegNwN51c3m"
      }
    },
    {
      "cell_type": "code",
      "source": [
        "X= df.drop('booking_complete',axis=1)\n",
        "# one hot encoding\n",
        "X = pd.get_dummies(X)\n",
        "X= scale(X)\n",
        "y= df.booking_complete\n",
        "\n",
        "X_train,X_val,y_train,y_val= dataset(X,y)\n",
        "\n",
        "logistic_model = LogisticRegression(random_state=1)\n",
        "logistic_model.fit(X_train, y_train)\n",
        "preds = logistic_model.predict(X_val)\n",
        "\n",
        "print('ACCURACY:', accuracy_score(y_val, preds)*100)\n",
        "print('AUC score:', roc_auc_score(y_val, preds))"
      ],
      "metadata": {
        "colab": {
          "base_uri": "https://localhost:8080/"
        },
        "id": "300hWZ7H1Oos",
        "outputId": "e026024e-8398-4822-fed2-68682793a807"
      },
      "execution_count": 67,
      "outputs": [
        {
          "output_type": "stream",
          "name": "stdout",
          "text": [
            "ACCURACY: 84.78999999999999\n",
            "AUC score: 0.507403804317649\n"
          ]
        }
      ]
    },
    {
      "cell_type": "markdown",
      "source": [
        "## Model 3 : XGB classifier with top 6 features"
      ],
      "metadata": {
        "id": "LUqtjx0j1fPi"
      }
    },
    {
      "cell_type": "code",
      "source": [
        "X= df[features]\n",
        "\n",
        "# one hot encoding\n",
        "X = pd.get_dummies(X, columns=features)\n",
        "X= scale(X)\n",
        "\n",
        "y= df.booking_complete\n",
        "\n",
        "X_train,X_val,y_train,y_val= dataset(X,y)\n",
        "xgb_model = XGBClassifier()\n",
        "\n",
        "xgb_model.fit(X_train, y_train)\n",
        "prediction_xgb = xgb_model.predict(X_val)\n",
        "print('ACCURACY: ',accuracy_score(y_val, prediction_xgb)*100)\n",
        "print('AUC score: ',roc_auc_score(y_val,prediction_xgb))\n"
      ],
      "metadata": {
        "colab": {
          "base_uri": "https://localhost:8080/"
        },
        "id": "_jmK7Dag1Qrv",
        "outputId": "4deb3079-ffd2-4439-821d-9d418505f254"
      },
      "execution_count": 68,
      "outputs": [
        {
          "output_type": "stream",
          "name": "stdout",
          "text": [
            "ACCURACY:  84.78999999999999\n",
            "AUC score:  0.5231540310747802\n"
          ]
        }
      ]
    },
    {
      "cell_type": "markdown",
      "source": [
        "## Model 4 : XGB classifier with all features"
      ],
      "metadata": {
        "id": "FNb1mAaA1hmi"
      }
    },
    {
      "cell_type": "code",
      "source": [
        "X= df.drop('booking_complete',axis=1)\n",
        "# one hot encoding\n",
        "X = pd.get_dummies(X)\n",
        "X= scale(X)\n",
        "y= df.booking_complete\n",
        "\n",
        "X_train,X_val,y_train,y_val= dataset(X,y)\n",
        "\n",
        "\n",
        "xgb_model = XGBClassifier()\n",
        "xgb_model.fit(X_train, y_train)\n",
        "prediction_xgb = xgb_model.predict(X_val)\n",
        "print('ACCURACY: ',accuracy_score(y_val, prediction_xgb)*100)\n",
        "print('AUC score: ',roc_auc_score(y_val,prediction_xgb))"
      ],
      "metadata": {
        "colab": {
          "base_uri": "https://localhost:8080/"
        },
        "id": "rtWHdG6I1So0",
        "outputId": "d50ba609-2e05-410b-d98a-e0e51924dc7d"
      },
      "execution_count": 69,
      "outputs": [
        {
          "output_type": "stream",
          "name": "stdout",
          "text": [
            "ACCURACY:  84.96000000000001\n",
            "AUC score:  0.5431644571912829\n"
          ]
        }
      ]
    },
    {
      "cell_type": "markdown",
      "source": [
        "Finalizing XGBoost model with all features as final model, as it has goos accuracy and higher auc score compared to other models\n"
      ],
      "metadata": {
        "id": "1nlq1pB91kMq"
      }
    },
    {
      "cell_type": "markdown",
      "source": [
        "Validating with test data set"
      ],
      "metadata": {
        "id": "43G-oZZc1rJ9"
      }
    },
    {
      "cell_type": "code",
      "source": [
        "X = df.drop('booking_complete', axis=1)\n",
        "# one hot encoding\n",
        "X = pd.get_dummies(X)\n",
        "X = scale(X)\n",
        "y = df.booking_complete\n",
        "\n",
        "train_full_X, test_X, train_full_y, test_y = train_test_split(X, y, test_size=0.2, random_state=0)\n",
        "\n",
        "xgb_model = XGBClassifier(random_state=1)\n",
        "xgb_model.fit(train_full_X, train_full_y)\n",
        "preds = xgb_model.predict(test_X)\n",
        "\n",
        "print('ACCURACY:', accuracy_score(test_y, preds)*100)\n",
        "print('AUC score:', roc_auc_score(test_y, preds))"
      ],
      "metadata": {
        "colab": {
          "base_uri": "https://localhost:8080/"
        },
        "id": "sDF0HjCcG4h2",
        "outputId": "816c933a-44ef-49cf-ad9d-82ca160f513d"
      },
      "execution_count": 73,
      "outputs": [
        {
          "output_type": "stream",
          "name": "stdout",
          "text": [
            "ACCURACY: 85.19\n",
            "AUC score: 0.5404461362352639\n"
          ]
        }
      ]
    },
    {
      "cell_type": "code",
      "source": [],
      "metadata": {
        "id": "Th8nn0syHBds"
      },
      "execution_count": null,
      "outputs": []
    }
  ],
  "metadata": {
    "kernelspec": {
      "display_name": "Python 3.9.13 ('venv': venv)",
      "language": "python",
      "name": "python3"
    },
    "language_info": {
      "codemirror_mode": {
        "name": "ipython",
        "version": 3
      },
      "file_extension": ".py",
      "mimetype": "text/x-python",
      "name": "python",
      "nbconvert_exporter": "python",
      "pygments_lexer": "ipython3",
      "version": "3.9.13"
    },
    "orig_nbformat": 4,
    "vscode": {
      "interpreter": {
        "hash": "4f7924c4c56b083e0e50eadfe7ef592a7a8ef70df33a0047f82280e6be1afe15"
      }
    },
    "colab": {
      "provenance": [],
      "include_colab_link": true
    }
  },
  "nbformat": 4,
  "nbformat_minor": 0
}